{
 "cells": [
  {
   "cell_type": "code",
   "execution_count": 1,
   "metadata": {
    "_cell_guid": "b1076dfc-b9ad-4769-8c92-a6c4dae69d19",
    "_uuid": "8f2839f25d086af736a60e9eeb907d3b93b6e0e5"
   },
   "outputs": [
    {
     "name": "stdout",
     "output_type": "stream",
     "text": [
      "/kaggle/input/superbowlads/superbowl-ads.csv\n"
     ]
    }
   ],
   "source": [
    "# This Python 3 environment comes with many helpful analytics libraries installed\n",
    "# It is defined by the kaggle/python docker image: https://github.com/kaggle/docker-python\n",
    "# For example, here's several helpful packages to load in \n",
    "\n",
    "import numpy as np # linear algebra\n",
    "import pandas as pd # data processing, CSV file I/O (e.g. pd.read_csv)\n",
    "import matplotlib.pyplot as plt\n",
    "import seaborn as sns\n",
    "\n",
    "# Input data files are available in the \"../input/\" directory.\n",
    "# For example, running this (by clicking run or pressing Shift+Enter) will list all files under the input directory\n",
    "\n",
    "import os\n",
    "for dirname, _, filenames in os.walk('/kaggle/input'):\n",
    "    for filename in filenames:\n",
    "        print(os.path.join(dirname, filename))\n",
    "\n",
    "# Any results you write to the current directory are saved as output."
   ]
  },
  {
   "cell_type": "code",
   "execution_count": 2,
   "metadata": {
    "_cell_guid": "79c7e3d0-c299-4dcb-8224-4455121ee9b0",
    "_uuid": "d629ff2d2480ee46fbb7e2d37f6b5fab8052498a"
   },
   "outputs": [
    {
     "name": "stderr",
     "output_type": "stream",
     "text": [
      "b'Skipping line 15: expected 4 fields, saw 5\\nSkipping line 25: expected 4 fields, saw 5\\nSkipping line 26: expected 4 fields, saw 5\\nSkipping line 27: expected 4 fields, saw 5\\nSkipping line 28: expected 4 fields, saw 5\\nSkipping line 302: expected 4 fields, saw 5\\nSkipping line 303: expected 4 fields, saw 5\\nSkipping line 304: expected 4 fields, saw 5\\nSkipping line 305: expected 4 fields, saw 5\\nSkipping line 306: expected 4 fields, saw 5\\nSkipping line 307: expected 4 fields, saw 5\\nSkipping line 308: expected 4 fields, saw 5\\nSkipping line 309: expected 4 fields, saw 5\\nSkipping line 310: expected 4 fields, saw 5\\nSkipping line 311: expected 4 fields, saw 5\\nSkipping line 446: expected 4 fields, saw 5\\nSkipping line 470: expected 4 fields, saw 5\\nSkipping line 509: expected 4 fields, saw 5\\nSkipping line 548: expected 4 fields, saw 5\\nSkipping line 549: expected 4 fields, saw 6\\nSkipping line 550: expected 4 fields, saw 6\\nSkipping line 551: expected 4 fields, saw 5\\nSkipping line 555: expected 4 fields, saw 5\\n'\n"
     ]
    },
    {
     "data": {
      "text/html": [
       "<div>\n",
       "<style scoped>\n",
       "    .dataframe tbody tr th:only-of-type {\n",
       "        vertical-align: middle;\n",
       "    }\n",
       "\n",
       "    .dataframe tbody tr th {\n",
       "        vertical-align: top;\n",
       "    }\n",
       "\n",
       "    .dataframe thead th {\n",
       "        text-align: right;\n",
       "    }\n",
       "</style>\n",
       "<table border=\"1\" class=\"dataframe\">\n",
       "  <thead>\n",
       "    <tr style=\"text-align: right;\">\n",
       "      <th></th>\n",
       "      <th>Year</th>\n",
       "      <th>Product Type</th>\n",
       "      <th>Product/Title</th>\n",
       "      <th>Plot/Notes</th>\n",
       "    </tr>\n",
       "  </thead>\n",
       "  <tbody>\n",
       "    <tr>\n",
       "      <th>0</th>\n",
       "      <td>1969</td>\n",
       "      <td>Car</td>\n",
       "      <td>Chrysler \"Scuba Diver\"[4]</td>\n",
       "      <td>A scuba diver in a dreamy sequence with groovy...</td>\n",
       "    </tr>\n",
       "    <tr>\n",
       "      <th>1</th>\n",
       "      <td>1970</td>\n",
       "      <td>Car</td>\n",
       "      <td>Pontiac\"Humbler\"</td>\n",
       "      <td>A young man pulled up in his GTO to a drive-in...</td>\n",
       "    </tr>\n",
       "    <tr>\n",
       "      <th>2</th>\n",
       "      <td>1975</td>\n",
       "      <td>Security</td>\n",
       "      <td>Master Lock\"Rifle\"</td>\n",
       "      <td>A man attempts to break a Master Lock with a r...</td>\n",
       "    </tr>\n",
       "    <tr>\n",
       "      <th>3</th>\n",
       "      <td>1976</td>\n",
       "      <td>Copy</td>\n",
       "      <td>Xerox\"Monks\"</td>\n",
       "      <td>A monk must make 500 handwritten scriptures fo...</td>\n",
       "    </tr>\n",
       "    <tr>\n",
       "      <th>4</th>\n",
       "      <td>1979</td>\n",
       "      <td>Soft drink</td>\n",
       "      <td>Coca-Cola\"Hey Kid, Catch!\"</td>\n",
       "      <td>A young kid tries to talk to \"Mean\" Joe Greene...</td>\n",
       "    </tr>\n",
       "    <tr>\n",
       "      <th>5</th>\n",
       "      <td>1981</td>\n",
       "      <td>Camera</td>\n",
       "      <td>Polaroid\"Now with a Flash\"</td>\n",
       "      <td>A couple walks in a park. The man shows that n...</td>\n",
       "    </tr>\n",
       "    <tr>\n",
       "      <th>6</th>\n",
       "      <td>1982</td>\n",
       "      <td>Computer</td>\n",
       "      <td>RadioShack\"Color Computer\"</td>\n",
       "      <td>A commercial for the TRS-80 computer.</td>\n",
       "    </tr>\n",
       "    <tr>\n",
       "      <th>7</th>\n",
       "      <td>1982</td>\n",
       "      <td>Restaurant</td>\n",
       "      <td>McDonald's\"Hopscotch\"</td>\n",
       "      <td>Two kids are playing hopscotch while singing t...</td>\n",
       "    </tr>\n",
       "    <tr>\n",
       "      <th>8</th>\n",
       "      <td>1984</td>\n",
       "      <td>Computer</td>\n",
       "      <td>Apple Inc.\"1984\"</td>\n",
       "      <td>In what some call the greatest Super Bowl comm...</td>\n",
       "    </tr>\n",
       "    <tr>\n",
       "      <th>9</th>\n",
       "      <td>1984</td>\n",
       "      <td>Computer</td>\n",
       "      <td>Atari\"Get Started\"</td>\n",
       "      <td>NaN</td>\n",
       "    </tr>\n",
       "  </tbody>\n",
       "</table>\n",
       "</div>"
      ],
      "text/plain": [
       "   Year Product Type               Product/Title  \\\n",
       "0  1969          Car   Chrysler \"Scuba Diver\"[4]   \n",
       "1  1970          Car            Pontiac\"Humbler\"   \n",
       "2  1975     Security          Master Lock\"Rifle\"   \n",
       "3  1976         Copy                Xerox\"Monks\"   \n",
       "4  1979   Soft drink  Coca-Cola\"Hey Kid, Catch!\"   \n",
       "5  1981       Camera  Polaroid\"Now with a Flash\"   \n",
       "6  1982     Computer  RadioShack\"Color Computer\"   \n",
       "7  1982   Restaurant       McDonald's\"Hopscotch\"   \n",
       "8  1984     Computer            Apple Inc.\"1984\"   \n",
       "9  1984     Computer          Atari\"Get Started\"   \n",
       "\n",
       "                                          Plot/Notes  \n",
       "0  A scuba diver in a dreamy sequence with groovy...  \n",
       "1  A young man pulled up in his GTO to a drive-in...  \n",
       "2  A man attempts to break a Master Lock with a r...  \n",
       "3  A monk must make 500 handwritten scriptures fo...  \n",
       "4  A young kid tries to talk to \"Mean\" Joe Greene...  \n",
       "5  A couple walks in a park. The man shows that n...  \n",
       "6              A commercial for the TRS-80 computer.  \n",
       "7  Two kids are playing hopscotch while singing t...  \n",
       "8  In what some call the greatest Super Bowl comm...  \n",
       "9                                                NaN  "
      ]
     },
     "execution_count": 2,
     "metadata": {},
     "output_type": "execute_result"
    }
   ],
   "source": [
    "df = pd.read_csv('../input/superbowlads/superbowl-ads.csv',error_bad_lines=False)\n",
    "df.head(10)"
   ]
  },
  {
   "cell_type": "code",
   "execution_count": 3,
   "metadata": {},
   "outputs": [
    {
     "data": {
      "text/plain": [
       "Year              0\n",
       "Product Type      0\n",
       "Product/Title     1\n",
       "Plot/Notes       15\n",
       "dtype: int64"
      ]
     },
     "execution_count": 3,
     "metadata": {},
     "output_type": "execute_result"
    }
   ],
   "source": [
    "df.isnull().sum()"
   ]
  },
  {
   "cell_type": "code",
   "execution_count": 4,
   "metadata": {},
   "outputs": [],
   "source": [
    "df = df.dropna()"
   ]
  },
  {
   "cell_type": "code",
   "execution_count": 5,
   "metadata": {},
   "outputs": [
    {
     "data": {
      "text/plain": [
       "Film          135\n",
       "Car            71\n",
       "Beer           46\n",
       "Website        44\n",
       "Food           36\n",
       "Soft drink     25\n",
       "TV series      19\n",
       "Wireless       13\n",
       "Restaurant      8\n",
       "Candy           7\n",
       "Name: Product Type, dtype: int64"
      ]
     },
     "execution_count": 5,
     "metadata": {},
     "output_type": "execute_result"
    }
   ],
   "source": [
    "df['Product Type'].value_counts().nlargest(10)"
   ]
  },
  {
   "cell_type": "code",
   "execution_count": 6,
   "metadata": {},
   "outputs": [
    {
     "data": {
      "text/plain": [
       "<matplotlib.axes._subplots.AxesSubplot at 0x7f897a9629b0>"
      ]
     },
     "execution_count": 6,
     "metadata": {},
     "output_type": "execute_result"
    },
    {
     "data": {
      "image/png": "[encoded data removed]",
      "text/plain": [
       "<Figure size 864x360 with 1 Axes>"
      ]
     },
     "metadata": {
      "needs_background": "light"
     },
     "output_type": "display_data"
    }
   ],
   "source": [
    "plt.figure(figsize = (12,5))\n",
    "sns.countplot(x='Product Type',data=df,order= df['Product Type'].value_counts().iloc[:10].index)"
   ]
  },
  {
   "cell_type": "code",
   "execution_count": 7,
   "metadata": {},
   "outputs": [
    {
     "data": {
      "text/html": [
       "<div>\n",
       "<style scoped>\n",
       "    .dataframe tbody tr th:only-of-type {\n",
       "        vertical-align: middle;\n",
       "    }\n",
       "\n",
       "    .dataframe tbody tr th {\n",
       "        vertical-align: top;\n",
       "    }\n",
       "\n",
       "    .dataframe thead th {\n",
       "        text-align: right;\n",
       "    }\n",
       "</style>\n",
       "<table border=\"1\" class=\"dataframe\">\n",
       "  <thead>\n",
       "    <tr style=\"text-align: right;\">\n",
       "      <th></th>\n",
       "      <th>Year</th>\n",
       "      <th>Product Type</th>\n",
       "      <th>Product/Title</th>\n",
       "      <th>Plot/Notes</th>\n",
       "      <th>Company</th>\n",
       "    </tr>\n",
       "  </thead>\n",
       "  <tbody>\n",
       "    <tr>\n",
       "      <th>0</th>\n",
       "      <td>1969</td>\n",
       "      <td>Car</td>\n",
       "      <td>Chrysler \"Scuba Diver\"[4]</td>\n",
       "      <td>A scuba diver in a dreamy sequence with groovy...</td>\n",
       "      <td>Chrysler</td>\n",
       "    </tr>\n",
       "    <tr>\n",
       "      <th>1</th>\n",
       "      <td>1970</td>\n",
       "      <td>Car</td>\n",
       "      <td>Pontiac\"Humbler\"</td>\n",
       "      <td>A young man pulled up in his GTO to a drive-in...</td>\n",
       "      <td>Pontiac</td>\n",
       "    </tr>\n",
       "    <tr>\n",
       "      <th>2</th>\n",
       "      <td>1975</td>\n",
       "      <td>Security</td>\n",
       "      <td>Master Lock\"Rifle\"</td>\n",
       "      <td>A man attempts to break a Master Lock with a r...</td>\n",
       "      <td>Master Lock</td>\n",
       "    </tr>\n",
       "    <tr>\n",
       "      <th>3</th>\n",
       "      <td>1976</td>\n",
       "      <td>Copy</td>\n",
       "      <td>Xerox\"Monks\"</td>\n",
       "      <td>A monk must make 500 handwritten scriptures fo...</td>\n",
       "      <td>Xerox</td>\n",
       "    </tr>\n",
       "    <tr>\n",
       "      <th>4</th>\n",
       "      <td>1979</td>\n",
       "      <td>Soft drink</td>\n",
       "      <td>Coca-Cola\"Hey Kid, Catch!\"</td>\n",
       "      <td>A young kid tries to talk to \"Mean\" Joe Greene...</td>\n",
       "      <td>Coca-Cola</td>\n",
       "    </tr>\n",
       "    <tr>\n",
       "      <th>...</th>\n",
       "      <td>...</td>\n",
       "      <td>...</td>\n",
       "      <td>...</td>\n",
       "      <td>...</td>\n",
       "      <td>...</td>\n",
       "    </tr>\n",
       "    <tr>\n",
       "      <th>529</th>\n",
       "      <td>2020</td>\n",
       "      <td>Car</td>\n",
       "      <td>Jeep \"\"\"Groundhog Day\"\"\" \"Groundhog Day commer...</td>\n",
       "      <td>meeting with Punxsutawney Phil again as he is...</td>\n",
       "      <td>Jeep</td>\n",
       "    </tr>\n",
       "    <tr>\n",
       "      <th>530</th>\n",
       "      <td>2020</td>\n",
       "      <td>Car</td>\n",
       "      <td>Kia Seltos \"\"\"Tough Never Quits\"\"\" \"Rookie Jos...</td>\n",
       "      <td>Oklahoma offering advice and inspiration to h...</td>\n",
       "      <td>Kia Seltos</td>\n",
       "    </tr>\n",
       "    <tr>\n",
       "      <th>531</th>\n",
       "      <td>2020</td>\n",
       "      <td>Car</td>\n",
       "      <td>Porsche Taycan \"\"\"The Heist\"\"\" \"Security profe...</td>\n",
       "      <td>a 917 K and a 918 Spyder.[227]\"</td>\n",
       "      <td>Porsche Taycan</td>\n",
       "    </tr>\n",
       "    <tr>\n",
       "      <th>536</th>\n",
       "      <td>2020</td>\n",
       "      <td>Food</td>\n",
       "      <td>Planters \"\"\"Tribute\"\"\" \"Following his death in...</td>\n",
       "      <td>Mr. Peanut returns to life as a newborn child...</td>\n",
       "      <td>Planters</td>\n",
       "    </tr>\n",
       "    <tr>\n",
       "      <th>537</th>\n",
       "      <td>2020</td>\n",
       "      <td>Food</td>\n",
       "      <td>Pop-Tarts Pretzel \"\"\"Pop-Tarts Fixed the Pretz...</td>\n",
       "      <td>promoting it as an alternative to \"\"boring\"\" ...</td>\n",
       "      <td>Pop-Tarts Pretzel</td>\n",
       "    </tr>\n",
       "  </tbody>\n",
       "</table>\n",
       "<p>524 rows × 5 columns</p>\n",
       "</div>"
      ],
      "text/plain": [
       "     Year Product Type                                      Product/Title  \\\n",
       "0    1969          Car                          Chrysler \"Scuba Diver\"[4]   \n",
       "1    1970          Car                                   Pontiac\"Humbler\"   \n",
       "2    1975     Security                                 Master Lock\"Rifle\"   \n",
       "3    1976         Copy                                       Xerox\"Monks\"   \n",
       "4    1979   Soft drink                         Coca-Cola\"Hey Kid, Catch!\"   \n",
       "..    ...          ...                                                ...   \n",
       "529  2020          Car  Jeep \"\"\"Groundhog Day\"\"\" \"Groundhog Day commer...   \n",
       "530  2020          Car  Kia Seltos \"\"\"Tough Never Quits\"\"\" \"Rookie Jos...   \n",
       "531  2020          Car  Porsche Taycan \"\"\"The Heist\"\"\" \"Security profe...   \n",
       "536  2020         Food  Planters \"\"\"Tribute\"\"\" \"Following his death in...   \n",
       "537  2020         Food  Pop-Tarts Pretzel \"\"\"Pop-Tarts Fixed the Pretz...   \n",
       "\n",
       "                                            Plot/Notes             Company  \n",
       "0    A scuba diver in a dreamy sequence with groovy...           Chrysler   \n",
       "1    A young man pulled up in his GTO to a drive-in...             Pontiac  \n",
       "2    A man attempts to break a Master Lock with a r...         Master Lock  \n",
       "3    A monk must make 500 handwritten scriptures fo...               Xerox  \n",
       "4    A young kid tries to talk to \"Mean\" Joe Greene...           Coca-Cola  \n",
       "..                                                 ...                 ...  \n",
       "529   meeting with Punxsutawney Phil again as he is...               Jeep   \n",
       "530   Oklahoma offering advice and inspiration to h...         Kia Seltos   \n",
       "531                    a 917 K and a 918 Spyder.[227]\"     Porsche Taycan   \n",
       "536   Mr. Peanut returns to life as a newborn child...           Planters   \n",
       "537   promoting it as an alternative to \"\"boring\"\" ...  Pop-Tarts Pretzel   \n",
       "\n",
       "[524 rows x 5 columns]"
      ]
     },
     "execution_count": 7,
     "metadata": {},
     "output_type": "execute_result"
    }
   ],
   "source": [
    "df['Company'] = df['Product/Title'].apply(lambda x: x.split(\"\\\"\")[0])\n",
    "df"
   ]
  },
  {
   "cell_type": "code",
   "execution_count": 8,
   "metadata": {},
   "outputs": [
    {
     "data": {
      "text/plain": [
       "Budweiser     20\n",
       "Pepsi         16\n",
       "T-Mobile      13\n",
       "Bud Light     13\n",
       "Doritos       10\n",
       "E*Trade        8\n",
       "Bud Light      6\n",
       "Toyota         5\n",
       "Audi           5\n",
       "FedEx          5\n",
       "Name: Company, dtype: int64"
      ]
     },
     "execution_count": 8,
     "metadata": {},
     "output_type": "execute_result"
    }
   ],
   "source": [
    "df['Company'].value_counts().nlargest(10)"
   ]
  },
  {
   "cell_type": "code",
   "execution_count": 9,
   "metadata": {},
   "outputs": [
    {
     "data": {
      "text/plain": [
       "<matplotlib.axes._subplots.AxesSubplot at 0x7f897a93df28>"
      ]
     },
     "execution_count": 9,
     "metadata": {},
     "output_type": "execute_result"
    },
    {
     "data": {
      "image/png": "[encoded data removed]",
      "text/plain": [
       "<Figure size 864x360 with 1 Axes>"
      ]
     },
     "metadata": {
      "needs_background": "light"
     },
     "output_type": "display_data"
    }
   ],
   "source": [
    "plt.figure(figsize = (12,5))\n",
    "sns.countplot(x='Company',data=df,order=df.Company.value_counts().iloc[:10].index)"
   ]
  },
  {
   "cell_type": "code",
   "execution_count": null,
   "metadata": {},
   "outputs": [],
   "source": []
  }
 ],
 "metadata": {
  "kernelspec": {
   "display_name": "Python 3",
   "language": "python",
   "name": "python3"
  },
  "language_info": {
   "codemirror_mode": {
    "name": "ipython",
    "version": 3
   },
   "file_extension": ".py",
   "mimetype": "text/x-python",
   "name": "python",
   "nbconvert_exporter": "python",
   "pygments_lexer": "ipython3",
   "version": "3.6.6"
  }
 },
 "nbformat": 4,
 "nbformat_minor": 1
}
